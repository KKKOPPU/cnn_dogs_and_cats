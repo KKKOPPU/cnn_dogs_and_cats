{
 "cells": [
  {
   "cell_type": "markdown",
   "metadata": {},
   "source": [
    "Importing libraries"
   ]
  },
  {
   "cell_type": "code",
   "execution_count": 1,
   "metadata": {},
   "outputs": [],
   "source": [
    "import tensorflow as tf\n",
    "from keras.preprocessing.image import ImageDataGenerator\n",
    "from tensorflow.keras.models import Sequential\n",
    "from tensorflow.keras.layers import Conv2D, MaxPool2D, Flatten, Dense"
   ]
  },
  {
   "cell_type": "code",
   "execution_count": 2,
   "metadata": {},
   "outputs": [
    {
     "data": {
      "text/plain": [
       "'2.5.0'"
      ]
     },
     "execution_count": 2,
     "metadata": {},
     "output_type": "execute_result"
    }
   ],
   "source": [
    "tf.__version__"
   ]
  },
  {
   "cell_type": "code",
   "execution_count": 3,
   "metadata": {},
   "outputs": [],
   "source": [
    "train_path = 'dataset\\\\training_set'\n",
    "test_path = 'dataset\\\\test_set'"
   ]
  },
  {
   "cell_type": "code",
   "execution_count": 4,
   "metadata": {},
   "outputs": [
    {
     "name": "stdout",
     "output_type": "stream",
     "text": [
      "Found 8000 images belonging to 2 classes.\n"
     ]
    }
   ],
   "source": [
    "train_datagen = ImageDataGenerator(rescale=1./255, # feature scaling\n",
    "                                  shear_range=0.2, #image augmentation to prevent overfitting.  transvection is a function that shifts every point with constant distance in a basis direction(x or y). It slants the shape of the image. Here, we fix one axis and stretch the certain angle\n",
    "                                  zoom_range=0.2, # <1 magnifies, > 1 zooms out\n",
    "                                  horizontal_flip=True)\n",
    "\n",
    "training_set = train_datagen.flow_from_directory(train_path,\n",
    "                                                target_size =(64,64), #Tuple of integers (height, width), defaults to (256, 256). The dimensions to which all images found will be resized.\n",
    "                                                batch_size=32, #Size of the batches of data (default: 32)\n",
    "                                                class_mode='binary')"
   ]
  },
  {
   "cell_type": "code",
   "execution_count": 5,
   "metadata": {},
   "outputs": [
    {
     "name": "stdout",
     "output_type": "stream",
     "text": [
      "Found 2000 images belonging to 2 classes.\n"
     ]
    }
   ],
   "source": [
    "test_datagen = ImageDataGenerator(rescale=1./255)\n",
    "testing_set = test_datagen.flow_from_directory(test_path,\n",
    "                                              target_size=(64,64), #faster than 150,150\n",
    "                                              batch_size=32,\n",
    "                                              class_mode='binary') # since only cat and dog"
   ]
  },
  {
   "cell_type": "markdown",
   "metadata": {},
   "source": [
    "Building CNN"
   ]
  },
  {
   "cell_type": "code",
   "execution_count": 6,
   "metadata": {},
   "outputs": [],
   "source": [
    "cnn = Sequential()\n",
    "\n",
    "cnn.add(Conv2D(filters=32, kernel_size=3, activation='relu',input_shape=[64,64,3])) \n",
    "cnn.add(tf.keras.layers.MaxPool2D(pool_size=2, strides=2))\n",
    "cnn.add(tf.keras.layers.Conv2D(filters=32, kernel_size=3, activation='relu'))\n",
    "cnn.add(tf.keras.layers.MaxPool2D(pool_size=2, strides=2))\n",
    "\n",
    "cnn.add(tf.keras.layers.Flatten())\n",
    "cnn.add(tf.keras.layers.Dense(units=128, activation='relu'))\n",
    "\n",
    "cnn.add(tf.keras.layers.Dense(units=1, activation='sigmoid'))\n",
    "\n",
    "cnn.compile(optimizer='adam',loss='binary_crossentropy',metrics=['accuracy'])"
   ]
  },
  {
   "cell_type": "code",
   "execution_count": 7,
   "metadata": {},
   "outputs": [
    {
     "name": "stdout",
     "output_type": "stream",
     "text": [
      "Epoch 1/25\n",
      "250/250 [==============================] - 352s 1s/step - loss: 0.6555 - accuracy: 0.5985 - val_loss: 0.7069 - val_accuracy: 0.5965\n",
      "Epoch 2/25\n",
      "250/250 [==============================] - 176s 705ms/step - loss: 0.5900 - accuracy: 0.6869 - val_loss: 0.5863 - val_accuracy: 0.6915\n",
      "Epoch 3/25\n",
      "250/250 [==============================] - 357s 1s/step - loss: 0.5583 - accuracy: 0.7132 - val_loss: 0.5611 - val_accuracy: 0.7155\n",
      "Epoch 4/25\n",
      "250/250 [==============================] - 346s 1s/step - loss: 0.5411 - accuracy: 0.7235 - val_loss: 0.5291 - val_accuracy: 0.7450\n",
      "Epoch 5/25\n",
      "250/250 [==============================] - 75s 298ms/step - loss: 0.5017 - accuracy: 0.7564 - val_loss: 0.5347 - val_accuracy: 0.7490\n",
      "Epoch 6/25\n",
      "250/250 [==============================] - 46s 183ms/step - loss: 0.4876 - accuracy: 0.7631 - val_loss: 0.4942 - val_accuracy: 0.7690\n",
      "Epoch 7/25\n",
      "250/250 [==============================] - 46s 183ms/step - loss: 0.4765 - accuracy: 0.7690 - val_loss: 0.4764 - val_accuracy: 0.7765\n",
      "Epoch 8/25\n",
      "250/250 [==============================] - 45s 180ms/step - loss: 0.4556 - accuracy: 0.7836 - val_loss: 0.5631 - val_accuracy: 0.7255\n",
      "Epoch 9/25\n",
      "250/250 [==============================] - 45s 181ms/step - loss: 0.4518 - accuracy: 0.7881 - val_loss: 0.4636 - val_accuracy: 0.7890\n",
      "Epoch 10/25\n",
      "250/250 [==============================] - 44s 178ms/step - loss: 0.4330 - accuracy: 0.7975 - val_loss: 0.4991 - val_accuracy: 0.7700\n",
      "Epoch 11/25\n",
      "250/250 [==============================] - 46s 184ms/step - loss: 0.4210 - accuracy: 0.8052 - val_loss: 0.4829 - val_accuracy: 0.7800\n",
      "Epoch 12/25\n",
      "250/250 [==============================] - 52s 207ms/step - loss: 0.4112 - accuracy: 0.8086 - val_loss: 0.4605 - val_accuracy: 0.7985\n",
      "Epoch 13/25\n",
      "250/250 [==============================] - 45s 181ms/step - loss: 0.4023 - accuracy: 0.8164 - val_loss: 0.4472 - val_accuracy: 0.7990\n",
      "Epoch 14/25\n",
      "250/250 [==============================] - 44s 176ms/step - loss: 0.3797 - accuracy: 0.8245 - val_loss: 0.4457 - val_accuracy: 0.8015\n",
      "Epoch 15/25\n",
      "250/250 [==============================] - 44s 177ms/step - loss: 0.3752 - accuracy: 0.8321 - val_loss: 0.4578 - val_accuracy: 0.7995\n",
      "Epoch 16/25\n",
      "250/250 [==============================] - 44s 175ms/step - loss: 0.3627 - accuracy: 0.8365 - val_loss: 0.5205 - val_accuracy: 0.7845\n",
      "Epoch 17/25\n",
      "250/250 [==============================] - 44s 175ms/step - loss: 0.3499 - accuracy: 0.8435 - val_loss: 0.5173 - val_accuracy: 0.7930\n",
      "Epoch 18/25\n",
      "250/250 [==============================] - 44s 176ms/step - loss: 0.3472 - accuracy: 0.8471 - val_loss: 0.5131 - val_accuracy: 0.7825\n",
      "Epoch 19/25\n",
      "250/250 [==============================] - 46s 185ms/step - loss: 0.3346 - accuracy: 0.8549 - val_loss: 0.4495 - val_accuracy: 0.8090\n",
      "Epoch 20/25\n",
      "250/250 [==============================] - 45s 180ms/step - loss: 0.3234 - accuracy: 0.8596 - val_loss: 0.4498 - val_accuracy: 0.8090\n",
      "Epoch 21/25\n",
      "250/250 [==============================] - 44s 175ms/step - loss: 0.3053 - accuracy: 0.8639 - val_loss: 0.5113 - val_accuracy: 0.8045\n",
      "Epoch 22/25\n",
      "250/250 [==============================] - 44s 175ms/step - loss: 0.2993 - accuracy: 0.8690 - val_loss: 0.4628 - val_accuracy: 0.8145\n",
      "Epoch 23/25\n",
      "250/250 [==============================] - 44s 175ms/step - loss: 0.2837 - accuracy: 0.8791 - val_loss: 0.5307 - val_accuracy: 0.7915\n",
      "Epoch 24/25\n",
      "250/250 [==============================] - 44s 175ms/step - loss: 0.2770 - accuracy: 0.8861 - val_loss: 0.5635 - val_accuracy: 0.7915\n",
      "Epoch 25/25\n",
      "250/250 [==============================] - 46s 184ms/step - loss: 0.2654 - accuracy: 0.8866 - val_loss: 0.5030 - val_accuracy: 0.8140\n"
     ]
    },
    {
     "data": {
      "text/plain": [
       "<tensorflow.python.keras.callbacks.History at 0x12af42c3250>"
      ]
     },
     "execution_count": 7,
     "metadata": {},
     "output_type": "execute_result"
    }
   ],
   "source": [
    "cnn.fit(x=training_set, validation_data=testing_set,epochs=25)"
   ]
  },
  {
   "cell_type": "code",
   "execution_count": 9,
   "metadata": {},
   "outputs": [],
   "source": [
    "import numpy as np\n",
    "from keras.preprocessing import image"
   ]
  },
  {
   "cell_type": "markdown",
   "metadata": {},
   "source": [
    "Individual Prediction"
   ]
  },
  {
   "cell_type": "code",
   "execution_count": 10,
   "metadata": {},
   "outputs": [
    {
     "name": "stdout",
     "output_type": "stream",
     "text": [
      "Predicted image is : cat\n"
     ]
    }
   ],
   "source": [
    "pred_path_1 = 'dataset\\\\single_prediction\\\\pred1.jpg'\n",
    "\n",
    "test_image = image.load_img(pred_path_1,target_size=(64,64))\n",
    "\n",
    "test_image = image.img_to_array(test_image)\n",
    "test_image = test_image/255.0\n",
    "test_image = np.expand_dims(test_image,axis = 0)\n",
    "result = cnn.predict(test_image)\n",
    "training_set.class_indices #{'cats': 0, 'dogs': 1}\n",
    "\n",
    "if result[0][0] > 0.5 :\n",
    "    prediction = 'dog'\n",
    "else:\n",
    "    prediction = 'cat'\n",
    "    \n",
    "print(f'Predicted image is : {prediction}')"
   ]
  },
  {
   "cell_type": "code",
   "execution_count": 12,
   "metadata": {},
   "outputs": [
    {
     "name": "stdout",
     "output_type": "stream",
     "text": [
      "Predicted image is : dog\n"
     ]
    }
   ],
   "source": [
    "pred_path_2 = 'dataset\\\\single_prediction\\\\pred2.jpg'\n",
    "\n",
    "test_image = image.load_img(pred_path_2,target_size=(64,64))\n",
    "\n",
    "test_image = image.img_to_array(test_image)\n",
    "test_image = test_image/255.0\n",
    "test_image = np.expand_dims(test_image,axis = 0)\n",
    "result = cnn.predict(test_image)\n",
    "training_set.class_indices #{'cats': 0, 'dogs': 1}\n",
    "\n",
    "if result[0][0] > 0.5 :\n",
    "    prediction = 'dog'\n",
    "else:\n",
    "    prediction = 'cat'\n",
    "    \n",
    "print(f'Predicted image is : {prediction}')"
   ]
  }
 ],
 "metadata": {
  "kernelspec": {
   "display_name": "Python 3",
   "language": "python",
   "name": "python3"
  },
  "language_info": {
   "codemirror_mode": {
    "name": "ipython",
    "version": 3
   },
   "file_extension": ".py",
   "mimetype": "text/x-python",
   "name": "python",
   "nbconvert_exporter": "python",
   "pygments_lexer": "ipython3",
   "version": "3.8.3"
  }
 },
 "nbformat": 4,
 "nbformat_minor": 4
}
